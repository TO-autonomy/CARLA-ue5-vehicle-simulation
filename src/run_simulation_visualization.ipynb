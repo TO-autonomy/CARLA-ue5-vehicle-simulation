{
 "cells": [
  {
   "cell_type": "code",
   "execution_count": 1,
   "metadata": {},
   "outputs": [
    {
     "name": "stdout",
     "output_type": "stream",
     "text": [
      "Jupyter environment detected. Enabling Open3D WebVisualizer.\n",
      "[Open3D INFO] WebRTC GUI backend enabled.\n",
      "[Open3D INFO] WebRTCWindowSystem: HTTP handshake server disabled.\n"
     ]
    }
   ],
   "source": [
    "import open3d as o3d\n",
    "import numpy as np\n",
    "import os\n",
    "import cv2"
   ]
  },
  {
   "cell_type": "markdown",
   "metadata": {},
   "source": [
    "### Visualize data at each timestamp"
   ]
  },
  {
   "cell_type": "code",
   "execution_count": 2,
   "metadata": {},
   "outputs": [],
   "source": [
    "def get_subdirectory_names(target_dir):\n",
    "    return os.listdir(target_dir)\n",
    "\n",
    "def get_file_names(target_dir):\n",
    "    return os.listdir(target_dir)\n",
    "\n",
    "def get_timestamps(target_dir, is_sorted=True):\n",
    "    filenames = [file_name.split('.')[0] for file_name in get_file_names(target_dir)]\n",
    "    timestamps = list(set(filenames))\n",
    "    return timestamps\n",
    "\n",
    "def get_sorted_timestamps(target_dir):\n",
    "    timestamps = get_timestamps(target_dir)\n",
    "    sorted_timestamps = sorted(timestamps, key=int)\n",
    "    return sorted_timestamps\n",
    "\n",
    "SIMULATION_DATA_PATH = '/home/leppsalu/Desktop/Datasets/generated_data_town02-discardable_sample'\n",
    "SENSOR_DATA_DIRS = get_subdirectory_names(SIMULATION_DATA_PATH) \n",
    "SENSOR_DATA_DIRS = [dir_name for dir_name in SENSOR_DATA_DIRS if dir_name == dir_name.upper()]\n",
    "LIDAR_DATA_DIRS = [dir_name for dir_name in SENSOR_DATA_DIRS if 'LIDAR' in dir_name]\n",
    "RADAR_DATA_DIRS = [dir_name for dir_name in SENSOR_DATA_DIRS if 'RADAR' in dir_name]\n",
    "CAMERA_DATA_DIRS = [dir_name for dir_name in SENSOR_DATA_DIRS if 'CAM_' in dir_name]\n",
    "DEPTH_BEV_DATA_DIR = \"DEPTH_BEV\"\n",
    "DEPTH_VISIBILITY_DATA_DIR = \"DEPTH_VISIBILITY\"\n",
    "TIMESTAMPS = get_sorted_timestamps(os.path.join(SIMULATION_DATA_PATH, LIDAR_DATA_DIRS[0]))"
   ]
  },
  {
   "cell_type": "code",
   "execution_count": 3,
   "metadata": {},
   "outputs": [],
   "source": [
    "i = 0\n",
    "n = 100\n",
    "timestamp = TIMESTAMPS[i]\n",
    "n_timestamps = TIMESTAMPS[i:n]"
   ]
  },
  {
   "cell_type": "markdown",
   "metadata": {},
   "source": [
    "### Visualize occupancy and visibility maps together"
   ]
  },
  {
   "cell_type": "code",
   "execution_count": null,
   "metadata": {},
   "outputs": [],
   "source": [
    "for i, timestamp in enumerate(n_timestamps):\n",
    "    occupancy_grid = cv2.imread(os.path.join(SIMULATION_DATA_PATH, DEPTH_BEV_DATA_DIR, f\"{timestamp}.bev.png\"), cv2.IMREAD_GRAYSCALE)\n",
    "    visibility_grid = cv2.imread(os.path.join(SIMULATION_DATA_PATH, DEPTH_VISIBILITY_DATA_DIR, f\"{timestamp}.png\"), cv2.IMREAD_GRAYSCALE)\n",
    "    visibility_and_occupancy = np.zeros_like(visibility_grid)\n",
    "    visibility_and_occupancy[visibility_grid > 0] = 190\n",
    "    visibility_and_occupancy[occupancy_grid > 0] = 255\n",
    "    visibility_and_occupancy = cv2.resize(visibility_and_occupancy, (800, 800))\n",
    "\n",
    "    cv2.imshow(\"Visibility + occupancy\", visibility_and_occupancy)\n",
    "    if cv2.waitKey(0) & 0xFF == ord('q'):\n",
    "        break\n",
    "cv2.destroyAllWindows()"
   ]
  },
  {
   "cell_type": "code",
   "execution_count": null,
   "metadata": {},
   "outputs": [
    {
     "ename": "RuntimeError",
     "evalue": "Stop here",
     "output_type": "error",
     "traceback": [
      "\u001b[0;31m---------------------------------------------------------------------------\u001b[0m",
      "\u001b[0;31mRuntimeError\u001b[0m                              Traceback (most recent call last)",
      "Cell \u001b[0;32mIn[5], line 1\u001b[0m\n\u001b[0;32m----> 1\u001b[0m \u001b[38;5;28;01mraise\u001b[39;00m \u001b[38;5;167;01mRuntimeError\u001b[39;00m(\u001b[38;5;124m\"\u001b[39m\u001b[38;5;124mStop here\u001b[39m\u001b[38;5;124m\"\u001b[39m)\n",
      "\u001b[0;31mRuntimeError\u001b[0m: Stop here"
     ]
    }
   ],
   "source": [
    "raise RuntimeError(\"Stop here\")"
   ]
  },
  {
   "cell_type": "markdown",
   "metadata": {},
   "source": [
    "### Visualization functions"
   ]
  },
  {
   "cell_type": "code",
   "execution_count": null,
   "metadata": {},
   "outputs": [],
   "source": [
    "def add_coordinate_frame_to_visualizer(vis, transformation_matrix, coordinate_frame_name=None, coordinate_frame_size=0.2):\n",
    "    # Create an Open3D geometry from the transformation matrix\n",
    "    frame = o3d.geometry.TriangleMesh.create_coordinate_frame(size=coordinate_frame_size, origin=[0, 0, 0])\n",
    "    frame.transform(transformation_matrix)\n",
    "    vis.add_geometry(frame)\n",
    "    # If a name is provided, add a text label to the frame\n",
    "    # if coordinate_frame_name is not None:\n",
    "    #     text = o3d.t.geometry.TriangleMesh.create_text(coordinate_frame_name).to_legacy()\n",
    "    #     text.translate([0, 0, 0.1])\n",
    "    #     text.transform(transformation_matrix)\n",
    "\n",
    "    #     vis.add_geometry(text)\n",
    "\n",
    "def add_pointcloud_to_visualizer(vis, pointcloud, transformation_matrix=None):\n",
    "    pointcloud.paint_uniform_color([1.0, 0.0, 0.0])\n",
    "    if transformation_matrix is not None:\n",
    "        pointcloud.transform(transformation_matrix)\n",
    "    vis.add_geometry(pointcloud)\n",
    "\n",
    "def add_all_lidar_poses_to_visualizer(vis, timestamp):\n",
    "    for data_dir in LIDAR_DATA_DIRS:\n",
    "        transformation_matrix = np.load(os.path.join(SIMULATION_DATA_PATH, data_dir, f'{timestamp}.npy'))\n",
    "        add_coordinate_frame_to_visualizer(vis, transformation_matrix, coordinate_frame_size=3, coordinate_frame_name=data_dir)\n",
    "\n",
    "def add_all_radar_poses_to_visualizer(vis, timestamp):\n",
    "    for data_dir in RADAR_DATA_DIRS:\n",
    "        transformation_matrix = np.load(os.path.join(SIMULATION_DATA_PATH, data_dir, f'{timestamp}.npy'))\n",
    "        add_coordinate_frame_to_visualizer(vis, transformation_matrix, coordinate_frame_size=2, coordinate_frame_name=data_dir)\n",
    "\n",
    "def add_all_camera_poses_to_visualizer(vis, timestamp):\n",
    "    for data_dir in CAMERA_DATA_DIRS:\n",
    "        transformation_matrix = np.load(os.path.join(SIMULATION_DATA_PATH, data_dir, f'{timestamp}.npy'))\n",
    "        add_coordinate_frame_to_visualizer(vis, transformation_matrix, coordinate_frame_size=1.5, coordinate_frame_name=data_dir)\n",
    "\n",
    "def add_all_sensor_poses_to_visualizer(vis, timestamp):\n",
    "    for data_dir in LIDAR_DATA_DIRS:\n",
    "        transformation_matrix = np.load(os.path.join(SIMULATION_DATA_PATH, data_dir, f'{timestamp}.npy'))\n",
    "        add_coordinate_frame_to_visualizer(vis, transformation_matrix, coordinate_frame_size=3, coordinate_frame_name=data_dir)\n",
    "    for data_dir in RADAR_DATA_DIRS:\n",
    "        transformation_matrix = np.load(os.path.join(SIMULATION_DATA_PATH, data_dir, f'{timestamp}.npy'))\n",
    "        add_coordinate_frame_to_visualizer(vis, transformation_matrix, coordinate_frame_size=2, coordinate_frame_name=data_dir)\n",
    "    for data_dir in CAMERA_DATA_DIRS:\n",
    "        transformation_matrix = np.load(os.path.join(SIMULATION_DATA_PATH, data_dir, f'{timestamp}.npy'))\n",
    "        add_coordinate_frame_to_visualizer(vis, transformation_matrix, coordinate_frame_size=1.5, coordinate_frame_name=data_dir)"
   ]
  },
  {
   "cell_type": "markdown",
   "metadata": {},
   "source": [
    "### Visualize lidar scans"
   ]
  },
  {
   "cell_type": "code",
   "execution_count": null,
   "metadata": {},
   "outputs": [],
   "source": [
    "def add_lidar_readings_to_visualizer(vis, timestamp):\n",
    "    for data_dir in LIDAR_DATA_DIRS:\n",
    "        pointcloud = o3d.io.read_point_cloud(os.path.join(SIMULATION_DATA_PATH, data_dir, f'{timestamp}.ply'))\n",
    "        transformation_matrix = np.load(os.path.join(SIMULATION_DATA_PATH, data_dir, f'{timestamp}.npy'))\n",
    "        add_pointcloud_to_visualizer(vis, pointcloud, transformation_matrix)"
   ]
  },
  {
   "cell_type": "code",
   "execution_count": null,
   "metadata": {},
   "outputs": [],
   "source": [
    "# Visualize one frame\n",
    "vis = o3d.visualization.Visualizer()\n",
    "vis.create_window(window_name='Single frame: Ego Vehicle Sensors + LIDAR point clouds', width=1920, height=1080)\n",
    "\n",
    "add_all_sensor_poses_to_visualizer(vis, timestamp)\n",
    "add_lidar_readings_to_visualizer(vis, timestamp)\n",
    "\n",
    "vis.run()\n",
    "vis.destroy_window()"
   ]
  },
  {
   "cell_type": "code",
   "execution_count": null,
   "metadata": {},
   "outputs": [],
   "source": [
    "# Visualize multiple frames\n",
    "vis = o3d.visualization.Visualizer()\n",
    "vis.create_window(window_name='Multiple frames: Ego Vehicle Sensors + LIDAR point clouds', width=1920, height=1080)\n",
    "\n",
    "for i, timestamp in enumerate(n_timestamps):\n",
    "    if i % 90 == 0:\n",
    "        add_all_sensor_poses_to_visualizer(vis, timestamp)\n",
    "    else:\n",
    "        add_all_lidar_poses_to_visualizer(vis, timestamp)\n",
    "    add_lidar_readings_to_visualizer(vis, timestamp)\n",
    "\n",
    "vis.run()\n",
    "vis.destroy_window()"
   ]
  },
  {
   "cell_type": "markdown",
   "metadata": {},
   "source": [
    "### Visualize radar scans"
   ]
  },
  {
   "cell_type": "code",
   "execution_count": null,
   "metadata": {},
   "outputs": [],
   "source": [
    "def add_radar_readings_to_visualizer(vis, timestamp):\n",
    "    for data_dir in RADAR_DATA_DIRS:\n",
    "        pointcloud = o3d.io.read_point_cloud(os.path.join(SIMULATION_DATA_PATH, data_dir, f'{timestamp}.ply'))\n",
    "        transformation_matrix = np.load(os.path.join(SIMULATION_DATA_PATH, data_dir, f'{timestamp}.npy'))\n",
    "        add_pointcloud_to_visualizer(vis, pointcloud, transformation_matrix)"
   ]
  },
  {
   "cell_type": "code",
   "execution_count": null,
   "metadata": {},
   "outputs": [],
   "source": [
    "# Visualize one frame\n",
    "vis = o3d.visualization.Visualizer()\n",
    "vis.create_window(window_name='Single frame: Ego Vehicle Sensors + RADAR point clouds', width=1920, height=1080)\n",
    "\n",
    "add_all_sensor_poses_to_visualizer(vis, timestamp)\n",
    "add_radar_readings_to_visualizer(vis, timestamp)\n",
    "\n",
    "vis.run()\n",
    "vis.destroy_window()"
   ]
  },
  {
   "cell_type": "code",
   "execution_count": null,
   "metadata": {},
   "outputs": [],
   "source": [
    "# Visualize multiple frames\n",
    "vis = o3d.visualization.Visualizer()\n",
    "vis.create_window(window_name='Multiple frames: Ego Vehicle Sensors + RADAR point clouds', width=1920, height=1080)\n",
    "\n",
    "for i, timestamp in enumerate(n_timestamps):\n",
    "    if i % 90 == 0:\n",
    "        add_all_sensor_poses_to_visualizer(vis, timestamp)\n",
    "    else:\n",
    "        add_all_lidar_poses_to_visualizer(vis, timestamp)\n",
    "    add_radar_readings_to_visualizer(vis, timestamp)\n",
    "\n",
    "vis.run()\n",
    "vis.destroy_window()"
   ]
  },
  {
   "cell_type": "markdown",
   "metadata": {},
   "source": [
    "### Visualize depth cam scans"
   ]
  },
  {
   "cell_type": "code",
   "execution_count": null,
   "metadata": {},
   "outputs": [],
   "source": [
    "def add_depth_camera_readings_to_visualizer(vis, timestamp):\n",
    "    for data_dir in ['DEPTH_BEV']:\n",
    "        pointcloud = o3d.io.read_point_cloud(os.path.join(SIMULATION_DATA_PATH, data_dir, f'{timestamp}.obstacles.ply'))\n",
    "        transformation_matrix = np.load(os.path.join(SIMULATION_DATA_PATH, data_dir, f'{timestamp}.npy'))\n",
    "        add_pointcloud_to_visualizer(vis, pointcloud, transformation_matrix)"
   ]
  },
  {
   "cell_type": "code",
   "execution_count": null,
   "metadata": {},
   "outputs": [],
   "source": [
    "# Visualize one frame\n",
    "vis = o3d.visualization.Visualizer()\n",
    "vis.create_window(window_name='Single frame: Ego Vehicle Sensors + Depth camera point clouds', width=1920, height=1080)\n",
    "\n",
    "add_all_sensor_poses_to_visualizer(vis, timestamp)\n",
    "add_depth_camera_readings_to_visualizer(vis, timestamp)\n",
    "\n",
    "# Run the visualization\n",
    "vis.run()\n",
    "\n",
    "# Close the visualization window\n",
    "vis.destroy_window()"
   ]
  },
  {
   "cell_type": "code",
   "execution_count": null,
   "metadata": {},
   "outputs": [],
   "source": [
    "# Visualize multiple frames\n",
    "vis = o3d.visualization.Visualizer()\n",
    "vis.create_window(window_name='Multiple frame: Ego Vehicle Sensors + Depth camera point clouds', width=1920, height=1080)\n",
    "\n",
    "for i, timestamp in enumerate(n_timestamps):\n",
    "    if i % 90 == 0:\n",
    "        add_all_sensor_poses_to_visualizer(vis, timestamp)\n",
    "    else:\n",
    "        add_all_lidar_poses_to_visualizer(vis, timestamp)\n",
    "    add_depth_camera_readings_to_visualizer(vis, timestamp)\n",
    "\n",
    "vis.run()\n",
    "vis.destroy_window()"
   ]
  }
 ],
 "metadata": {
  "kernelspec": {
   "display_name": ".venv",
   "language": "python",
   "name": "python3"
  },
  "language_info": {
   "codemirror_mode": {
    "name": "ipython",
    "version": 3
   },
   "file_extension": ".py",
   "mimetype": "text/x-python",
   "name": "python",
   "nbconvert_exporter": "python",
   "pygments_lexer": "ipython3",
   "version": "3.8.10"
  }
 },
 "nbformat": 4,
 "nbformat_minor": 2
}
