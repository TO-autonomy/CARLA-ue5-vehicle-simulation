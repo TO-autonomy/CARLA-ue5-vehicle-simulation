{
 "cells": [
  {
   "cell_type": "code",
   "execution_count": 11,
   "metadata": {},
   "outputs": [],
   "source": [
    "import open3d as o3d\n",
    "import numpy as np\n",
    "import os\n",
    "import cv2"
   ]
  },
  {
   "cell_type": "markdown",
   "metadata": {},
   "source": [
    "### Visualize data at each timestamp"
   ]
  },
  {
   "cell_type": "code",
   "execution_count": 12,
   "metadata": {},
   "outputs": [],
   "source": [
    "def get_subdirectory_names(target_dir):\n",
    "    return os.listdir(target_dir)\n",
    "\n",
    "def get_file_names(target_dir):\n",
    "    return os.listdir(target_dir)\n",
    "\n",
    "def get_timestamps(target_dir, is_sorted=True):\n",
    "    filenames = [file_name.split('.')[0] for file_name in get_file_names(target_dir)]\n",
    "    timestamps = list(set(filenames))\n",
    "    return timestamps\n",
    "\n",
    "def get_sorted_timestamps(target_dir):\n",
    "    timestamps = get_timestamps(target_dir)\n",
    "    sorted_timestamps = sorted(timestamps, key=int)\n",
    "    return sorted_timestamps\n",
    "\n",
    "SIMULATION_DATA_PATH = '/media/leppsalu/SSD_Storage/generated_data_town03_sample'\n",
    "SENSOR_DATA_DIRS = get_subdirectory_names(SIMULATION_DATA_PATH) \n",
    "SENSOR_DATA_DIRS = [dir_name for dir_name in SENSOR_DATA_DIRS if dir_name == dir_name.upper()]\n",
    "LIDAR_DATA_DIRS = [dir_name for dir_name in SENSOR_DATA_DIRS if 'LIDAR' in dir_name]\n",
    "RADAR_DATA_DIRS = [dir_name for dir_name in SENSOR_DATA_DIRS if 'RADAR' in dir_name]\n",
    "CAMERA_DATA_DIRS = [dir_name for dir_name in SENSOR_DATA_DIRS if 'CAM_' in dir_name]\n",
    "DEPTH_BEV_DATA_DIR = \"DEPTH_BEV\"\n",
    "DEPTH_VISIBILITY_DATA_DIR = \"DEPTH_VISIBILITY\"\n",
    "TIMESTAMPS = get_sorted_timestamps(os.path.join(SIMULATION_DATA_PATH, LIDAR_DATA_DIRS[0]))"
   ]
  },
  {
   "cell_type": "code",
   "execution_count": 13,
   "metadata": {},
   "outputs": [],
   "source": [
    "i = 0\n",
    "n = 1000                                                                                                                                                                                                                                                                                                            \n",
    "timestamp = TIMESTAMPS[i]\n",
    "n_timestamps = TIMESTAMPS[i:n]"
   ]
  },
  {
   "cell_type": "markdown",
   "metadata": {},
   "source": [
    "### Visualize occupancy and visibility maps together"
   ]
  },
  {
   "cell_type": "code",
   "execution_count": 14,
   "metadata": {},
   "outputs": [
    {
     "name": "stdout",
     "output_type": "stream",
     "text": [
      "Current timestamp: 60061680012\n",
      "Current timestamp: 60161680014\n",
      "Final timestamp: 60161680014\n"
     ]
    }
   ],
   "source": [
    "for timestamp in n_timestamps:\n",
    "    occupancy_grid = cv2.imread(os.path.join(SIMULATION_DATA_PATH, DEPTH_BEV_DATA_DIR, f\"{timestamp}.bev.png\"), cv2.IMREAD_GRAYSCALE)\n",
    "    visibility_grid = cv2.imread(os.path.join(SIMULATION_DATA_PATH, DEPTH_VISIBILITY_DATA_DIR, f\"{timestamp}.png\"), cv2.IMREAD_GRAYSCALE)\n",
    "\n",
    "    visibility_and_occupancy = np.zeros_like(occupancy_grid)    \n",
    "    visibility_and_occupancy[visibility_grid == 255] = 255\n",
    "    visibility_and_occupancy[occupancy_grid == 255] = 125  \n",
    "    visibility_and_occupancy = cv2.resize(visibility_and_occupancy, (1000, 1000), interpolation=cv2.INTER_NEAREST)       \n",
    "\n",
    "    cv2.imshow(\"Visibility and Occupancy\", visibility_and_occupancy)\n",
    "    print(\"Current timestamp:\", timestamp)\n",
    "    if cv2.waitKey(0) & 0xFF == ord('q'):\n",
    "        print(\"Final timestamp:\", timestamp)\n",
    "        break              \n",
    "cv2.destroyAllWindows()      "
   ]
  },
  {
   "cell_type": "markdown",
   "metadata": {},
   "source": [
    "### Visualization functions"
   ]
  },
  {
   "cell_type": "code",
   "execution_count": 15,
   "metadata": {},
   "outputs": [],
   "source": [
    "def add_coordinate_frame_to_visualizer(vis, transformation_matrix, coordinate_frame_name=None, coordinate_frame_size=0.2):\n",
    "    # Create an Open3D geometry from the transformation matrix\n",
    "    frame = o3d.geometry.TriangleMesh.create_coordinate_frame(size=coordinate_frame_size, origin=[0, 0, 0])\n",
    "    frame.transform(transformation_matrix)\n",
    "    vis.add_geometry(frame)\n",
    "    # If a name is provided, add a text label to the frame\n",
    "    # if coordinate_frame_name is not None:\n",
    "    #     text = o3d.t.geometry.TriangleMesh.create_text(coordinate_frame_name).to_legacy()\n",
    "    #     text.translate([0, 0, 0.1])\n",
    "    #     text.transform(transformation_matrix)\n",
    "\n",
    "    #     vis.add_geometry(text)\n",
    "\n",
    "def add_pointcloud_to_visualizer(vis, pointcloud, transformation_matrix=None, color=[1.0, 0.0, 0.0]):\n",
    "    pointcloud.paint_uniform_color(color)\n",
    "    if transformation_matrix is not None:\n",
    "        pointcloud.transform(transformation_matrix)\n",
    "    vis.add_geometry(pointcloud)\n",
    "\n",
    "def add_all_lidar_poses_to_visualizer(vis, timestamp):\n",
    "    for data_dir in LIDAR_DATA_DIRS:\n",
    "        transformation_matrix = np.load(os.path.join(SIMULATION_DATA_PATH, data_dir, f'{timestamp}.npy'))\n",
    "        add_coordinate_frame_to_visualizer(vis, transformation_matrix, coordinate_frame_size=3, coordinate_frame_name=data_dir)\n",
    "\n",
    "def add_all_radar_poses_to_visualizer(vis, timestamp):\n",
    "    for data_dir in RADAR_DATA_DIRS:\n",
    "        transformation_matrix = np.load(os.path.join(SIMULATION_DATA_PATH, data_dir, f'{timestamp}.npy'))\n",
    "        add_coordinate_frame_to_visualizer(vis, transformation_matrix, coordinate_frame_size=2, coordinate_frame_name=data_dir)\n",
    "\n",
    "def add_all_camera_poses_to_visualizer(vis, timestamp):\n",
    "    for data_dir in CAMERA_DATA_DIRS:\n",
    "        transformation_matrix = np.load(os.path.join(SIMULATION_DATA_PATH, data_dir, f'{timestamp}.npy'))\n",
    "        add_coordinate_frame_to_visualizer(vis, transformation_matrix, coordinate_frame_size=1.5, coordinate_frame_name=data_dir)\n",
    "\n",
    "def add_all_sensor_poses_to_visualizer(vis, timestamp):\n",
    "    for data_dir in LIDAR_DATA_DIRS:\n",
    "        transformation_matrix = np.load(os.path.join(SIMULATION_DATA_PATH, data_dir, f'{timestamp}.npy'))\n",
    "        add_coordinate_frame_to_visualizer(vis, transformation_matrix, coordinate_frame_size=3, coordinate_frame_name=data_dir)\n",
    "    for data_dir in RADAR_DATA_DIRS:\n",
    "        transformation_matrix = np.load(os.path.join(SIMULATION_DATA_PATH, data_dir, f'{timestamp}.npy'))\n",
    "        add_coordinate_frame_to_visualizer(vis, transformation_matrix, coordinate_frame_size=2, coordinate_frame_name=data_dir)\n",
    "    for data_dir in CAMERA_DATA_DIRS:\n",
    "        transformation_matrix = np.load(os.path.join(SIMULATION_DATA_PATH, data_dir, f'{timestamp}.npy'))\n",
    "        add_coordinate_frame_to_visualizer(vis, transformation_matrix, coordinate_frame_size=1.5, coordinate_frame_name=data_dir)"
   ]
  },
  {
   "cell_type": "markdown",
   "metadata": {},
   "source": [
    "#### Visualize lidar point cloud with depth point cloud"
   ]
  },
  {
   "cell_type": "code",
   "execution_count": 16,
   "metadata": {},
   "outputs": [
    {
     "name": "stdout",
     "output_type": "stream",
     "text": [
      "Exiting loop at timestamp: 60661680021\n"
     ]
    }
   ],
   "source": [
    "cv2.namedWindow(\"Press q to exit visualization loop\", cv2.WINDOW_NORMAL)\n",
    "for i, timestamp in enumerate(n_timestamps):\n",
    "    if cv2.waitKey(0) & 0xFF == ord('q'):\n",
    "        cv2.destroyAllWindows()\n",
    "        print(\"Exiting loop at timestamp:\", timestamp)\n",
    "        break\n",
    "    else:\n",
    "        vis = o3d.visualization.Visualizer()\n",
    "        vis.create_window(window_name=f\"Lidar point clouds (red) + Depth point clouds (green) + Sensor poses\")\n",
    "        lidar_pointcloud = o3d.io.read_point_cloud(os.path.join(SIMULATION_DATA_PATH, LIDAR_DATA_DIRS[0], f'{timestamp}.ply'))\n",
    "        depth_pointcloud = o3d.io.read_point_cloud(os.path.join(SIMULATION_DATA_PATH, DEPTH_VISIBILITY_DATA_DIR, f'{timestamp}.ply'))\n",
    "        add_pointcloud_to_visualizer(vis, lidar_pointcloud, color=[1.0, 0.0, 0.0])\n",
    "        add_pointcloud_to_visualizer(vis, depth_pointcloud, color=[0.0, 1.0, 0.0])\n",
    "        if i == 0:\n",
    "            add_all_sensor_poses_to_visualizer(vis, timestamp)\n",
    "        else:\n",
    "            add_all_lidar_poses_to_visualizer(vis, timestamp)\n",
    "        vis.run()\n",
    "        vis.destroy_window()\n",
    "\n",
    "    \n",
    "        "
   ]
  },
  {
   "cell_type": "markdown",
   "metadata": {},
   "source": [
    "#### Highlight filtered points in semantic point cloud"
   ]
  },
  {
   "cell_type": "code",
   "execution_count": 17,
   "metadata": {},
   "outputs": [],
   "source": [
    "# from classes.CARLASemantics import SemanticTags\n",
    "\n",
    "# def get_points_from_semantic_point_cloud(point_cloud, semantic_tags=None):\n",
    "#     point_cloud_points = np.array(point_cloud.points)\n",
    "#     point_cloud_colors = (np.array(point_cloud.colors) * 255).astype(np.uint8) \n",
    "#     point_cloud_semantic_tags = point_cloud_colors[:, 2]\n",
    "#     if semantic_tags is not None:\n",
    "#         semantic_tags = np.array(semantic_tags)\n",
    "#         point_cloud_points = point_cloud_points[np.where(np.isin(point_cloud_semantic_tags, semantic_tags))]\n",
    "#     return point_cloud_points\n",
    "\n",
    "# def get_obstacles_from_semantic_point_cloud(point_cloud):\n",
    "#     all_semantic_tags = [semantic_tag.value for semantic_tag in SemanticTags]\n",
    "#     ground_and_sky_semantic_tags = np.array([ \n",
    "#             SemanticTags.ROADLINE.value, SemanticTags.ROAD.value, \n",
    "#             SemanticTags.SIDEWALK.value, SemanticTags.GROUND.value, \n",
    "#             SemanticTags.WATER.value, SemanticTags.TERRAIN.value\n",
    "#         ], dtype=np.uint8)\n",
    "#     obstacles_tags = np.setdiff1d(all_semantic_tags, ground_and_sky_semantic_tags)\n",
    "#     obstacle_points = get_points_from_semantic_point_cloud(point_cloud, obstacles_tags)\n",
    "#     obstacle_point_cloud = o3d.geometry.PointCloud()\n",
    "#     obstacle_point_cloud.points = o3d.utility.Vector3dVector(obstacle_points)\n",
    "#     return obstacle_point_cloud\n",
    "\n",
    "# point_cloud = o3d.io.read_point_cloud(os.path.join(SIMULATION_DATA_PATH, DEPTH_VISIBILITY_DATA_DIR, \"43190989933.ply\"))  \n",
    "# obstacles = get_obstacles_from_semantic_point_cloud(point_cloud)\n",
    "# vi = o3d.visualization.Visualizer()\n",
    "# vi.create_window(window_name=\"Obstacles\")\n",
    "# add_pointcloud_to_visualizer(vi, point_cloud, color=[1.0, 0.0, 0.0])\n",
    "# add_pointcloud_to_visualizer(vi, obstacles, color=[0.0, 0.0, 1.0])\n",
    "\n",
    "# vi.run()\n",
    "# vi.destroy_window()\n",
    "# raise RuntimeError(\"Stop here\")"
   ]
  },
  {
   "cell_type": "markdown",
   "metadata": {},
   "source": [
    "### Visualize lidar scans"
   ]
  },
  {
   "cell_type": "code",
   "execution_count": 18,
   "metadata": {},
   "outputs": [],
   "source": [
    "def add_lidar_readings_to_visualizer(vis, timestamp):\n",
    "    for data_dir in LIDAR_DATA_DIRS:\n",
    "        pointcloud = o3d.io.read_point_cloud(os.path.join(SIMULATION_DATA_PATH, data_dir, f'{timestamp}.ply'))\n",
    "        transformation_matrix = np.load(os.path.join(SIMULATION_DATA_PATH, data_dir, f'{timestamp}.npy'))\n",
    "        add_pointcloud_to_visualizer(vis, pointcloud, transformation_matrix)"
   ]
  },
  {
   "cell_type": "code",
   "execution_count": 19,
   "metadata": {},
   "outputs": [],
   "source": [
    "# Visualize one frame\n",
    "vis = o3d.visualization.Visualizer()\n",
    "vis.create_window(window_name='Single frame: Ego Vehicle Sensors + LIDAR point clouds', width=1920, height=1080)\n",
    "\n",
    "add_all_sensor_poses_to_visualizer(vis, timestamp)\n",
    "add_lidar_readings_to_visualizer(vis, timestamp)\n",
    "\n",
    "vis.run()\n",
    "vis.destroy_window()"
   ]
  },
  {
   "cell_type": "code",
   "execution_count": 20,
   "metadata": {},
   "outputs": [
    {
     "ename": "RuntimeError",
     "evalue": "Stop here",
     "output_type": "error",
     "traceback": [
      "\u001b[0;31m---------------------------------------------------------------------------\u001b[0m",
      "\u001b[0;31mRuntimeError\u001b[0m                              Traceback (most recent call last)",
      "Cell \u001b[0;32mIn[20], line 14\u001b[0m\n\u001b[1;32m     12\u001b[0m vis\u001b[38;5;241m.\u001b[39mrun()\n\u001b[1;32m     13\u001b[0m vis\u001b[38;5;241m.\u001b[39mdestroy_window()\n\u001b[0;32m---> 14\u001b[0m \u001b[38;5;28;01mraise\u001b[39;00m \u001b[38;5;167;01mRuntimeError\u001b[39;00m(\u001b[38;5;124m\"\u001b[39m\u001b[38;5;124mStop here\u001b[39m\u001b[38;5;124m\"\u001b[39m)\n",
      "\u001b[0;31mRuntimeError\u001b[0m: Stop here"
     ]
    }
   ],
   "source": [
    "# Visualize multiple frames\n",
    "vis = o3d.visualization.Visualizer()\n",
    "vis.create_window(window_name='Multiple frames: Ego Vehicle Sensors + LIDAR point clouds', width=1920, height=1080)\n",
    "\n",
    "for i, timestamp in enumerate(n_timestamps):\n",
    "    if i % 90 == 0:\n",
    "        add_all_sensor_poses_to_visualizer(vis, timestamp)\n",
    "    else:\n",
    "        add_all_lidar_poses_to_visualizer(vis, timestamp)\n",
    "    add_lidar_readings_to_visualizer(vis, timestamp)\n",
    "\n",
    "vis.run()\n",
    "vis.destroy_window()\n",
    "raise RuntimeError(\"Stop here\")"
   ]
  },
  {
   "cell_type": "markdown",
   "metadata": {},
   "source": [
    "### Visualize radar scans"
   ]
  },
  {
   "cell_type": "code",
   "execution_count": null,
   "metadata": {},
   "outputs": [],
   "source": [
    "def add_radar_readings_to_visualizer(vis, timestamp):\n",
    "    for data_dir in RADAR_DATA_DIRS:\n",
    "        pointcloud = o3d.io.read_point_cloud(os.path.join(SIMULATION_DATA_PATH, data_dir, f'{timestamp}.ply'))\n",
    "        transformation_matrix = np.load(os.path.join(SIMULATION_DATA_PATH, data_dir, f'{timestamp}.npy'))\n",
    "        add_pointcloud_to_visualizer(vis, pointcloud, transformation_matrix)"
   ]
  },
  {
   "cell_type": "code",
   "execution_count": null,
   "metadata": {},
   "outputs": [],
   "source": [
    "# Visualize one frame\n",
    "vis = o3d.visualization.Visualizer()\n",
    "vis.create_window(window_name='Single frame: Ego Vehicle Sensors + RADAR point clouds', width=1920, height=1080)\n",
    "\n",
    "add_all_sensor_poses_to_visualizer(vis, timestamp)\n",
    "add_radar_readings_to_visualizer(vis, timestamp)\n",
    "\n",
    "vis.run()\n",
    "vis.destroy_window()"
   ]
  },
  {
   "cell_type": "code",
   "execution_count": null,
   "metadata": {},
   "outputs": [],
   "source": [
    "# Visualize multiple frames\n",
    "vis = o3d.visualization.Visualizer()\n",
    "vis.create_window(window_name='Multiple frames: Ego Vehicle Sensors + RADAR point clouds', width=1920, height=1080)\n",
    "\n",
    "for i, timestamp in enumerate(n_timestamps):\n",
    "    if i % 90 == 0:\n",
    "        add_all_sensor_poses_to_visualizer(vis, timestamp)\n",
    "    else:\n",
    "        add_all_lidar_poses_to_visualizer(vis, timestamp)\n",
    "    add_radar_readings_to_visualizer(vis, timestamp)\n",
    "\n",
    "vis.run()\n",
    "vis.destroy_window()"
   ]
  },
  {
   "cell_type": "markdown",
   "metadata": {},
   "source": [
    "### Visualize depth cam scans"
   ]
  },
  {
   "cell_type": "code",
   "execution_count": null,
   "metadata": {},
   "outputs": [],
   "source": [
    "def add_depth_camera_readings_to_visualizer(vis, timestamp):\n",
    "    for data_dir in ['DEPTH_BEV']:\n",
    "        pointcloud = o3d.io.read_point_cloud(os.path.join(SIMULATION_DATA_PATH, data_dir, f'{timestamp}.obstacles.ply'))\n",
    "        transformation_matrix = np.load(os.path.join(SIMULATION_DATA_PATH, data_dir, f'{timestamp}.npy'))\n",
    "        add_pointcloud_to_visualizer(vis, pointcloud, transformation_matrix)"
   ]
  },
  {
   "cell_type": "code",
   "execution_count": null,
   "metadata": {},
   "outputs": [],
   "source": [
    "# Visualize one frame\n",
    "vis = o3d.visualization.Visualizer()\n",
    "vis.create_window(window_name='Single frame: Ego Vehicle Sensors + Depth camera point clouds', width=1920, height=1080)\n",
    "\n",
    "add_all_sensor_poses_to_visualizer(vis, timestamp)\n",
    "add_depth_camera_readings_to_visualizer(vis, timestamp)\n",
    "\n",
    "# Run the visualization\n",
    "vis.run()\n",
    "\n",
    "# Close the visualization window\n",
    "vis.destroy_window()"
   ]
  },
  {
   "cell_type": "code",
   "execution_count": null,
   "metadata": {},
   "outputs": [],
   "source": [
    "# Visualize multiple frames\n",
    "vis = o3d.visualization.Visualizer()\n",
    "vis.create_window(window_name='Multiple frame: Ego Vehicle Sensors + Depth camera point clouds', width=1920, height=1080)\n",
    "\n",
    "for i, timestamp in enumerate(n_timestamps):\n",
    "    if i % 90 == 0:\n",
    "        add_all_sensor_poses_to_visualizer(vis, timestamp)\n",
    "    else:\n",
    "        add_all_lidar_poses_to_visualizer(vis, timestamp)\n",
    "    add_depth_camera_readings_to_visualizer(vis, timestamp)\n",
    "\n",
    "vis.run()\n",
    "vis.destroy_window()"
   ]
  }
 ],
 "metadata": {
  "kernelspec": {
   "display_name": ".venv",
   "language": "python",
   "name": "python3"
  },
  "language_info": {
   "codemirror_mode": {
    "name": "ipython",
    "version": 3
   },
   "file_extension": ".py",
   "mimetype": "text/x-python",
   "name": "python",
   "nbconvert_exporter": "python",
   "pygments_lexer": "ipython3",
   "version": "3.8.10"
  }
 },
 "nbformat": 4,
 "nbformat_minor": 2
}
